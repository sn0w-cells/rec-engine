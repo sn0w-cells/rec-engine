{
 "cells": [
  {
   "cell_type": "code",
   "execution_count": 192,
   "id": "163af3e1",
   "metadata": {
    "tags": []
   },
   "outputs": [],
   "source": [
    "import pandas as pd\n",
    "import numpy as np\n",
    "from collections import Counter\n",
    "import pickle\n",
    "\n",
    "pd.set_option('display.max_columns', None)"
   ]
  },
  {
   "cell_type": "code",
   "execution_count": 2,
   "id": "0dee810f",
   "metadata": {
    "tags": []
   },
   "outputs": [
    {
     "data": {
      "text/html": [
       "<div>\n",
       "<style scoped>\n",
       "    .dataframe tbody tr th:only-of-type {\n",
       "        vertical-align: middle;\n",
       "    }\n",
       "\n",
       "    .dataframe tbody tr th {\n",
       "        vertical-align: top;\n",
       "    }\n",
       "\n",
       "    .dataframe thead th {\n",
       "        text-align: right;\n",
       "    }\n",
       "</style>\n",
       "<table border=\"1\" class=\"dataframe\">\n",
       "  <thead>\n",
       "    <tr style=\"text-align: right;\">\n",
       "      <th></th>\n",
       "      <th>id</th>\n",
       "      <th>title</th>\n",
       "      <th>overview</th>\n",
       "      <th>release_date</th>\n",
       "      <th>popularity</th>\n",
       "      <th>vote_average</th>\n",
       "      <th>vote_count</th>\n",
       "    </tr>\n",
       "  </thead>\n",
       "  <tbody>\n",
       "    <tr>\n",
       "      <th>0</th>\n",
       "      <td>238</td>\n",
       "      <td>The Godfather</td>\n",
       "      <td>Spanning the years 1945 to 1955, a chronicle o...</td>\n",
       "      <td>1972-03-14</td>\n",
       "      <td>109.720</td>\n",
       "      <td>8.7</td>\n",
       "      <td>17355</td>\n",
       "    </tr>\n",
       "    <tr>\n",
       "      <th>1</th>\n",
       "      <td>278</td>\n",
       "      <td>The Shawshank Redemption</td>\n",
       "      <td>Framed in the 1940s for the double murder of h...</td>\n",
       "      <td>1994-09-23</td>\n",
       "      <td>92.048</td>\n",
       "      <td>8.7</td>\n",
       "      <td>23144</td>\n",
       "    </tr>\n",
       "    <tr>\n",
       "      <th>2</th>\n",
       "      <td>315162</td>\n",
       "      <td>Puss in Boots: The Last Wish</td>\n",
       "      <td>Puss in Boots discovers that his passion for a...</td>\n",
       "      <td>2022-12-07</td>\n",
       "      <td>6689.647</td>\n",
       "      <td>8.6</td>\n",
       "      <td>2504</td>\n",
       "    </tr>\n",
       "    <tr>\n",
       "      <th>3</th>\n",
       "      <td>240</td>\n",
       "      <td>The Godfather Part II</td>\n",
       "      <td>In the continuing saga of the Corleone crime f...</td>\n",
       "      <td>1974-12-20</td>\n",
       "      <td>57.998</td>\n",
       "      <td>8.6</td>\n",
       "      <td>10503</td>\n",
       "    </tr>\n",
       "    <tr>\n",
       "      <th>4</th>\n",
       "      <td>424</td>\n",
       "      <td>Schindler's List</td>\n",
       "      <td>The true story of how businessman Oskar Schind...</td>\n",
       "      <td>1993-12-15</td>\n",
       "      <td>55.299</td>\n",
       "      <td>8.6</td>\n",
       "      <td>13687</td>\n",
       "    </tr>\n",
       "  </tbody>\n",
       "</table>\n",
       "</div>"
      ],
      "text/plain": [
       "       id                         title   \n",
       "0     238                 The Godfather  \\\n",
       "1     278      The Shawshank Redemption   \n",
       "2  315162  Puss in Boots: The Last Wish   \n",
       "3     240         The Godfather Part II   \n",
       "4     424              Schindler's List   \n",
       "\n",
       "                                            overview release_date  popularity   \n",
       "0  Spanning the years 1945 to 1955, a chronicle o...   1972-03-14     109.720  \\\n",
       "1  Framed in the 1940s for the double murder of h...   1994-09-23      92.048   \n",
       "2  Puss in Boots discovers that his passion for a...   2022-12-07    6689.647   \n",
       "3  In the continuing saga of the Corleone crime f...   1974-12-20      57.998   \n",
       "4  The true story of how businessman Oskar Schind...   1993-12-15      55.299   \n",
       "\n",
       "   vote_average  vote_count  \n",
       "0           8.7       17355  \n",
       "1           8.7       23144  \n",
       "2           8.6        2504  \n",
       "3           8.6       10503  \n",
       "4           8.6       13687  "
      ]
     },
     "execution_count": 2,
     "metadata": {},
     "output_type": "execute_result"
    }
   ],
   "source": [
    "movies = pd.read_csv('movies.csv')\n",
    "movies.head()"
   ]
  },
  {
   "cell_type": "code",
   "execution_count": 3,
   "id": "2ee1d0be",
   "metadata": {
    "tags": []
   },
   "outputs": [
    {
     "data": {
      "text/plain": [
       "(10000, 7)"
      ]
     },
     "execution_count": 3,
     "metadata": {},
     "output_type": "execute_result"
    }
   ],
   "source": [
    "movies.shape"
   ]
  },
  {
   "cell_type": "code",
   "execution_count": 4,
   "id": "9d34ffb8",
   "metadata": {
    "tags": []
   },
   "outputs": [
    {
     "name": "stdout",
     "output_type": "stream",
     "text": [
      "<class 'pandas.core.frame.DataFrame'>\n",
      "RangeIndex: 10000 entries, 0 to 9999\n",
      "Data columns (total 7 columns):\n",
      " #   Column        Non-Null Count  Dtype  \n",
      "---  ------        --------------  -----  \n",
      " 0   id            10000 non-null  int64  \n",
      " 1   title         10000 non-null  object \n",
      " 2   overview      9998 non-null   object \n",
      " 3   release_date  10000 non-null  object \n",
      " 4   popularity    10000 non-null  float64\n",
      " 5   vote_average  10000 non-null  float64\n",
      " 6   vote_count    10000 non-null  int64  \n",
      "dtypes: float64(2), int64(2), object(3)\n",
      "memory usage: 547.0+ KB\n"
     ]
    }
   ],
   "source": [
    "movies.info()"
   ]
  },
  {
   "cell_type": "code",
   "execution_count": 10,
   "id": "0d3f6343-e305-433d-8f09-4b8e56feb683",
   "metadata": {
    "tags": []
   },
   "outputs": [],
   "source": [
    "movies = movies.dropna()"
   ]
  },
  {
   "cell_type": "code",
   "execution_count": 11,
   "id": "e34eda46-5db3-42cf-8dea-7afaa9490f54",
   "metadata": {
    "tags": []
   },
   "outputs": [
    {
     "data": {
      "text/html": [
       "<div>\n",
       "<style scoped>\n",
       "    .dataframe tbody tr th:only-of-type {\n",
       "        vertical-align: middle;\n",
       "    }\n",
       "\n",
       "    .dataframe tbody tr th {\n",
       "        vertical-align: top;\n",
       "    }\n",
       "\n",
       "    .dataframe thead th {\n",
       "        text-align: right;\n",
       "    }\n",
       "</style>\n",
       "<table border=\"1\" class=\"dataframe\">\n",
       "  <thead>\n",
       "    <tr style=\"text-align: right;\">\n",
       "      <th></th>\n",
       "      <th>id</th>\n",
       "      <th>title</th>\n",
       "      <th>overview</th>\n",
       "      <th>release_date</th>\n",
       "      <th>popularity</th>\n",
       "      <th>vote_average</th>\n",
       "      <th>vote_count</th>\n",
       "    </tr>\n",
       "  </thead>\n",
       "  <tbody>\n",
       "    <tr>\n",
       "      <th>0</th>\n",
       "      <td>238</td>\n",
       "      <td>The Godfather</td>\n",
       "      <td>Spanning the years 1945 to 1955, a chronicle o...</td>\n",
       "      <td>1972-03-14</td>\n",
       "      <td>109.720</td>\n",
       "      <td>8.7</td>\n",
       "      <td>17355</td>\n",
       "    </tr>\n",
       "    <tr>\n",
       "      <th>1</th>\n",
       "      <td>278</td>\n",
       "      <td>The Shawshank Redemption</td>\n",
       "      <td>Framed in the 1940s for the double murder of h...</td>\n",
       "      <td>1994-09-23</td>\n",
       "      <td>92.048</td>\n",
       "      <td>8.7</td>\n",
       "      <td>23144</td>\n",
       "    </tr>\n",
       "    <tr>\n",
       "      <th>2</th>\n",
       "      <td>315162</td>\n",
       "      <td>Puss in Boots: The Last Wish</td>\n",
       "      <td>Puss in Boots discovers that his passion for a...</td>\n",
       "      <td>2022-12-07</td>\n",
       "      <td>6689.647</td>\n",
       "      <td>8.6</td>\n",
       "      <td>2504</td>\n",
       "    </tr>\n",
       "    <tr>\n",
       "      <th>3</th>\n",
       "      <td>240</td>\n",
       "      <td>The Godfather Part II</td>\n",
       "      <td>In the continuing saga of the Corleone crime f...</td>\n",
       "      <td>1974-12-20</td>\n",
       "      <td>57.998</td>\n",
       "      <td>8.6</td>\n",
       "      <td>10503</td>\n",
       "    </tr>\n",
       "    <tr>\n",
       "      <th>4</th>\n",
       "      <td>424</td>\n",
       "      <td>Schindler's List</td>\n",
       "      <td>The true story of how businessman Oskar Schind...</td>\n",
       "      <td>1993-12-15</td>\n",
       "      <td>55.299</td>\n",
       "      <td>8.6</td>\n",
       "      <td>13687</td>\n",
       "    </tr>\n",
       "  </tbody>\n",
       "</table>\n",
       "</div>"
      ],
      "text/plain": [
       "       id                         title   \n",
       "0     238                 The Godfather  \\\n",
       "1     278      The Shawshank Redemption   \n",
       "2  315162  Puss in Boots: The Last Wish   \n",
       "3     240         The Godfather Part II   \n",
       "4     424              Schindler's List   \n",
       "\n",
       "                                            overview release_date  popularity   \n",
       "0  Spanning the years 1945 to 1955, a chronicle o...   1972-03-14     109.720  \\\n",
       "1  Framed in the 1940s for the double murder of h...   1994-09-23      92.048   \n",
       "2  Puss in Boots discovers that his passion for a...   2022-12-07    6689.647   \n",
       "3  In the continuing saga of the Corleone crime f...   1974-12-20      57.998   \n",
       "4  The true story of how businessman Oskar Schind...   1993-12-15      55.299   \n",
       "\n",
       "   vote_average  vote_count  \n",
       "0           8.7       17355  \n",
       "1           8.7       23144  \n",
       "2           8.6        2504  \n",
       "3           8.6       10503  \n",
       "4           8.6       13687  "
      ]
     },
     "execution_count": 11,
     "metadata": {},
     "output_type": "execute_result"
    }
   ],
   "source": [
    "movies.head()"
   ]
  },
  {
   "cell_type": "code",
   "execution_count": 12,
   "id": "04de96a1-ad00-4f30-b490-f9ec687b095d",
   "metadata": {
    "tags": []
   },
   "outputs": [],
   "source": [
    "movies = movies.drop('id', axis=1)"
   ]
  },
  {
   "cell_type": "code",
   "execution_count": 16,
   "id": "5f3a709a-d6e4-4e5c-8d3a-d3bfbe464e8d",
   "metadata": {
    "tags": []
   },
   "outputs": [],
   "source": [
    "movies['release_date'] = pd.to_datetime(movies['release_date'])"
   ]
  },
  {
   "cell_type": "code",
   "execution_count": 17,
   "id": "71d91216-9892-4b93-a20f-77245b0b2005",
   "metadata": {
    "tags": []
   },
   "outputs": [
    {
     "name": "stdout",
     "output_type": "stream",
     "text": [
      "<class 'pandas.core.frame.DataFrame'>\n",
      "Index: 9998 entries, 0 to 9999\n",
      "Data columns (total 6 columns):\n",
      " #   Column        Non-Null Count  Dtype         \n",
      "---  ------        --------------  -----         \n",
      " 0   title         9998 non-null   object        \n",
      " 1   overview      9998 non-null   object        \n",
      " 2   release_date  9998 non-null   datetime64[ns]\n",
      " 3   popularity    9998 non-null   float64       \n",
      " 4   vote_average  9998 non-null   float64       \n",
      " 5   vote_count    9998 non-null   int64         \n",
      "dtypes: datetime64[ns](1), float64(2), int64(1), object(2)\n",
      "memory usage: 546.8+ KB\n"
     ]
    }
   ],
   "source": [
    "movies.info()"
   ]
  },
  {
   "cell_type": "code",
   "execution_count": 18,
   "id": "60496231-c953-4b54-ad04-b488579282ec",
   "metadata": {
    "tags": []
   },
   "outputs": [],
   "source": [
    "movies['year'] = movies['release_date'].dt.year"
   ]
  },
  {
   "cell_type": "code",
   "execution_count": 22,
   "id": "50912955-3081-47d7-8272-3edf002201ef",
   "metadata": {
    "tags": []
   },
   "outputs": [],
   "source": [
    "movies = movies.drop('release_date', axis=1)"
   ]
  },
  {
   "cell_type": "code",
   "execution_count": 23,
   "id": "258bfa97-c8ad-41ae-bddc-8717872ea147",
   "metadata": {
    "tags": []
   },
   "outputs": [
    {
     "data": {
      "text/html": [
       "<div>\n",
       "<style scoped>\n",
       "    .dataframe tbody tr th:only-of-type {\n",
       "        vertical-align: middle;\n",
       "    }\n",
       "\n",
       "    .dataframe tbody tr th {\n",
       "        vertical-align: top;\n",
       "    }\n",
       "\n",
       "    .dataframe thead th {\n",
       "        text-align: right;\n",
       "    }\n",
       "</style>\n",
       "<table border=\"1\" class=\"dataframe\">\n",
       "  <thead>\n",
       "    <tr style=\"text-align: right;\">\n",
       "      <th></th>\n",
       "      <th>title</th>\n",
       "      <th>overview</th>\n",
       "      <th>popularity</th>\n",
       "      <th>vote_average</th>\n",
       "      <th>vote_count</th>\n",
       "      <th>year</th>\n",
       "    </tr>\n",
       "  </thead>\n",
       "  <tbody>\n",
       "    <tr>\n",
       "      <th>0</th>\n",
       "      <td>The Godfather</td>\n",
       "      <td>Spanning the years 1945 to 1955, a chronicle o...</td>\n",
       "      <td>109.720</td>\n",
       "      <td>8.7</td>\n",
       "      <td>17355</td>\n",
       "      <td>1972</td>\n",
       "    </tr>\n",
       "    <tr>\n",
       "      <th>1</th>\n",
       "      <td>The Shawshank Redemption</td>\n",
       "      <td>Framed in the 1940s for the double murder of h...</td>\n",
       "      <td>92.048</td>\n",
       "      <td>8.7</td>\n",
       "      <td>23144</td>\n",
       "      <td>1994</td>\n",
       "    </tr>\n",
       "    <tr>\n",
       "      <th>2</th>\n",
       "      <td>Puss in Boots: The Last Wish</td>\n",
       "      <td>Puss in Boots discovers that his passion for a...</td>\n",
       "      <td>6689.647</td>\n",
       "      <td>8.6</td>\n",
       "      <td>2504</td>\n",
       "      <td>2022</td>\n",
       "    </tr>\n",
       "    <tr>\n",
       "      <th>3</th>\n",
       "      <td>The Godfather Part II</td>\n",
       "      <td>In the continuing saga of the Corleone crime f...</td>\n",
       "      <td>57.998</td>\n",
       "      <td>8.6</td>\n",
       "      <td>10503</td>\n",
       "      <td>1974</td>\n",
       "    </tr>\n",
       "    <tr>\n",
       "      <th>4</th>\n",
       "      <td>Schindler's List</td>\n",
       "      <td>The true story of how businessman Oskar Schind...</td>\n",
       "      <td>55.299</td>\n",
       "      <td>8.6</td>\n",
       "      <td>13687</td>\n",
       "      <td>1993</td>\n",
       "    </tr>\n",
       "  </tbody>\n",
       "</table>\n",
       "</div>"
      ],
      "text/plain": [
       "                          title   \n",
       "0                 The Godfather  \\\n",
       "1      The Shawshank Redemption   \n",
       "2  Puss in Boots: The Last Wish   \n",
       "3         The Godfather Part II   \n",
       "4              Schindler's List   \n",
       "\n",
       "                                            overview  popularity   \n",
       "0  Spanning the years 1945 to 1955, a chronicle o...     109.720  \\\n",
       "1  Framed in the 1940s for the double murder of h...      92.048   \n",
       "2  Puss in Boots discovers that his passion for a...    6689.647   \n",
       "3  In the continuing saga of the Corleone crime f...      57.998   \n",
       "4  The true story of how businessman Oskar Schind...      55.299   \n",
       "\n",
       "   vote_average  vote_count  year  \n",
       "0           8.7       17355  1972  \n",
       "1           8.7       23144  1994  \n",
       "2           8.6        2504  2022  \n",
       "3           8.6       10503  1974  \n",
       "4           8.6       13687  1993  "
      ]
     },
     "execution_count": 23,
     "metadata": {},
     "output_type": "execute_result"
    }
   ],
   "source": [
    "movies.head()"
   ]
  },
  {
   "cell_type": "code",
   "execution_count": 58,
   "id": "9e89d2ef-d005-4e11-9746-185d573c9d1c",
   "metadata": {
    "tags": []
   },
   "outputs": [],
   "source": [
    "vocab = []\n",
    "for i in range(len(movies)):\n",
    "    blob = movies.iloc[i, 1].split()\n",
    "    \n",
    "    for word in blob:\n",
    "        vocab.append(word)"
   ]
  },
  {
   "cell_type": "code",
   "execution_count": 60,
   "id": "71571983-9bd1-4c95-825b-dc6c652c60ed",
   "metadata": {
    "tags": []
   },
   "outputs": [
    {
     "data": {
      "text/plain": [
       "466766"
      ]
     },
     "execution_count": 60,
     "metadata": {},
     "output_type": "execute_result"
    }
   ],
   "source": [
    "len(vocab)"
   ]
  },
  {
   "cell_type": "code",
   "execution_count": 79,
   "id": "74e61c65-fa1c-493d-a7a2-a45072aded93",
   "metadata": {
    "tags": []
   },
   "outputs": [],
   "source": [
    "from nltk.stem import PorterStemmer\n",
    "ps = PorterStemmer()"
   ]
  },
  {
   "cell_type": "code",
   "execution_count": 76,
   "id": "f0869678-db44-4ad6-b1e2-ee3ed0ffca34",
   "metadata": {
    "tags": []
   },
   "outputs": [],
   "source": [
    "import string"
   ]
  },
  {
   "cell_type": "code",
   "execution_count": 77,
   "id": "eb783277-185b-4b02-9fbd-d0dbab61aca5",
   "metadata": {
    "tags": []
   },
   "outputs": [
    {
     "data": {
      "text/plain": [
       "'!\"#$%&\\'()*+,-./:;<=>?@[\\\\]^_`{|}~'"
      ]
     },
     "execution_count": 77,
     "metadata": {},
     "output_type": "execute_result"
    }
   ],
   "source": [
    "string.punctuation"
   ]
  },
  {
   "cell_type": "code",
   "execution_count": 80,
   "id": "8a5b3c6c-562e-4bd8-bb32-dbe41b2868d4",
   "metadata": {
    "tags": []
   },
   "outputs": [],
   "source": [
    "def removing_punctions_stemming(text):\n",
    "    y = []\n",
    "    \n",
    "    for i in text.split():\n",
    "        if i not in string.punctuation:\n",
    "            y.append(ps.stem(i))       \n",
    "    \n",
    "    return \" \".join(y)\n",
    "        "
   ]
  },
  {
   "cell_type": "code",
   "execution_count": 86,
   "id": "ce8dd895-cac1-462c-bf51-7c377c39f37a",
   "metadata": {
    "tags": []
   },
   "outputs": [],
   "source": [
    "movies['overview'] = movies['overview'].apply(removing_punctions_stemming)"
   ]
  },
  {
   "cell_type": "code",
   "execution_count": 87,
   "id": "7dfe654a-1510-40cb-b6c3-4aa1f6626960",
   "metadata": {
    "tags": []
   },
   "outputs": [],
   "source": [
    "from sklearn.feature_extraction.text import CountVectorizer\n",
    "cv = CountVectorizer(max_features=5000, stop_words='english')"
   ]
  },
  {
   "cell_type": "code",
   "execution_count": 88,
   "id": "56492791-c98b-4972-bf3d-194a5859aa13",
   "metadata": {
    "tags": []
   },
   "outputs": [],
   "source": [
    "vectors = cv.fit_transform(movies['overview']).toarray()"
   ]
  },
  {
   "cell_type": "code",
   "execution_count": 89,
   "id": "8555ad1a-08bb-4410-9052-ec62fb98ffb5",
   "metadata": {
    "tags": []
   },
   "outputs": [
    {
     "data": {
      "text/plain": [
       "(9998, 5000)"
      ]
     },
     "execution_count": 89,
     "metadata": {},
     "output_type": "execute_result"
    }
   ],
   "source": [
    "vectors.shape"
   ]
  },
  {
   "cell_type": "code",
   "execution_count": 90,
   "id": "bf32c9a8-bba4-4285-8f94-47e2d64239d6",
   "metadata": {
    "tags": []
   },
   "outputs": [
    {
     "data": {
      "text/plain": [
       "array(['000', '10', '100', ..., 'zombies', 'zone', 'zoo'], dtype=object)"
      ]
     },
     "execution_count": 90,
     "metadata": {},
     "output_type": "execute_result"
    }
   ],
   "source": [
    "cv.get_feature_names_out()"
   ]
  },
  {
   "cell_type": "code",
   "execution_count": 108,
   "id": "5cdf6e14-b069-4439-bc28-8f86835c29e4",
   "metadata": {
    "tags": []
   },
   "outputs": [
    {
     "data": {
      "text/plain": [
       "array([[1.097200e+02, 8.700000e+00, 1.735500e+04, 1.972000e+03],\n",
       "       [9.204800e+01, 8.700000e+00, 2.314400e+04, 1.994000e+03],\n",
       "       [6.689647e+03, 8.600000e+00, 2.504000e+03, 2.022000e+03],\n",
       "       ...,\n",
       "       [1.783100e+01, 5.400000e+00, 9.810000e+02, 2.013000e+03],\n",
       "       [9.472000e+00, 5.400000e+00, 8.350000e+02, 2.011000e+03],\n",
       "       [2.210500e+01, 5.400000e+00, 1.415000e+03, 2.001000e+03]])"
      ]
     },
     "execution_count": 108,
     "metadata": {},
     "output_type": "execute_result"
    }
   ],
   "source": [
    "movies.iloc[:, 2:].values"
   ]
  },
  {
   "cell_type": "code",
   "execution_count": 109,
   "id": "d4a173b1-35fb-4ec1-b608-874f3f3885ae",
   "metadata": {
    "tags": []
   },
   "outputs": [],
   "source": [
    "final = np.concatenate((vectors, movies.iloc[:, 2:].values), axis=1)"
   ]
  },
  {
   "cell_type": "code",
   "execution_count": 110,
   "id": "e17f1ea5-80b3-44bd-8fc4-d9937b33dd8f",
   "metadata": {
    "tags": []
   },
   "outputs": [
    {
     "data": {
      "text/plain": [
       "(9998, 5004)"
      ]
     },
     "execution_count": 110,
     "metadata": {},
     "output_type": "execute_result"
    }
   ],
   "source": [
    "final.shape"
   ]
  },
  {
   "cell_type": "code",
   "execution_count": 111,
   "id": "5c930870-d883-4913-a04f-4e380d9eb227",
   "metadata": {
    "tags": []
   },
   "outputs": [],
   "source": [
    "from sklearn.metrics.pairwise import cosine_similarity"
   ]
  },
  {
   "cell_type": "code",
   "execution_count": 176,
   "id": "d24d0015-1d5f-4c67-a546-7549deab4207",
   "metadata": {
    "tags": []
   },
   "outputs": [],
   "source": [
    "similarities = cosine_similarity(final)"
   ]
  },
  {
   "cell_type": "code",
   "execution_count": 177,
   "id": "63b69c06-e290-407a-9746-0c494f557527",
   "metadata": {
    "tags": []
   },
   "outputs": [
    {
     "data": {
      "text/plain": [
       "(9998, 9998)"
      ]
     },
     "execution_count": 177,
     "metadata": {},
     "output_type": "execute_result"
    }
   ],
   "source": [
    "similarities.shape"
   ]
  },
  {
   "cell_type": "code",
   "execution_count": 178,
   "id": "a5d73b63-64d7-4d10-938a-b4148444d970",
   "metadata": {
    "tags": []
   },
   "outputs": [
    {
     "data": {
      "text/plain": [
       "array([0.99950266, 0.99828037, 0.37662985, ..., 0.56304759, 0.51255441,\n",
       "       0.6889963 ])"
      ]
     },
     "execution_count": 178,
     "metadata": {},
     "output_type": "execute_result"
    }
   ],
   "source": [
    "similarities[4]"
   ]
  },
  {
   "cell_type": "code",
   "execution_count": 188,
   "id": "add18456-f2ea-4857-aee5-8e1f78c5a564",
   "metadata": {
    "tags": []
   },
   "outputs": [],
   "source": [
    "def recommendation(movie):\n",
    "    index = np.where(movies['title'] == movie)[0][0]\n",
    "    similar_movies = sorted(list(enumerate(similarities[index])), key = lambda x:x[1], reverse=True)[1:11]\n",
    "    for i in similar_movies:\n",
    "        print(movies.iloc[i[0], 0])\n",
    "    "
   ]
  },
  {
   "cell_type": "code",
   "execution_count": 191,
   "id": "dfc48df2-12ae-450b-8299-b2e75bf0fa1f",
   "metadata": {
    "tags": []
   },
   "outputs": [
    {
     "name": "stdout",
     "output_type": "stream",
     "text": [
      "Prometheus\n",
      "Pirates of the Caribbean: Dead Men Tell No Tales\n",
      "1917\n",
      "Call Me by Your Name\n",
      "Raiders of the Lost Ark\n",
      "The Devil Wears Prada\n",
      "Me Before You\n",
      "A Star Is Born\n",
      "Kick-Ass\n",
      "American Beauty\n"
     ]
    }
   ],
   "source": [
    "recommendation('The Godfather Part II')"
   ]
  },
  {
   "cell_type": "code",
   "execution_count": 196,
   "id": "d98cdba0-2486-4f00-b011-899fb26dce13",
   "metadata": {
    "tags": []
   },
   "outputs": [],
   "source": [
    "with open(\"final.pkl\", \"wb\") as f:\n",
    "    # Use the pickle module to dump the data to the file\n",
    "    pickle.dump(movies, f)"
   ]
  },
  {
   "cell_type": "code",
   "execution_count": 194,
   "id": "49ce2632-ef28-480f-bed1-0de9112c0d26",
   "metadata": {},
   "outputs": [],
   "source": [
    "with open(\"similarity_scores.pkl\", \"wb\") as f:\n",
    "    # Use the pickle module to dump the data to the file\n",
    "    pickle.dump(similarities, f)"
   ]
  },
  {
   "cell_type": "code",
   "execution_count": 197,
   "id": "f6ffe4f0-b1a9-49d7-b1a6-14d179fa0d63",
   "metadata": {},
   "outputs": [
    {
     "data": {
      "text/html": [
       "<div>\n",
       "<style scoped>\n",
       "    .dataframe tbody tr th:only-of-type {\n",
       "        vertical-align: middle;\n",
       "    }\n",
       "\n",
       "    .dataframe tbody tr th {\n",
       "        vertical-align: top;\n",
       "    }\n",
       "\n",
       "    .dataframe thead th {\n",
       "        text-align: right;\n",
       "    }\n",
       "</style>\n",
       "<table border=\"1\" class=\"dataframe\">\n",
       "  <thead>\n",
       "    <tr style=\"text-align: right;\">\n",
       "      <th></th>\n",
       "      <th>title</th>\n",
       "      <th>overview</th>\n",
       "      <th>popularity</th>\n",
       "      <th>vote_average</th>\n",
       "      <th>vote_count</th>\n",
       "      <th>year</th>\n",
       "    </tr>\n",
       "  </thead>\n",
       "  <tbody>\n",
       "    <tr>\n",
       "      <th>0</th>\n",
       "      <td>The Godfather</td>\n",
       "      <td>span the year 1945 to 1955, a chronicl of the ...</td>\n",
       "      <td>109.720</td>\n",
       "      <td>8.7</td>\n",
       "      <td>17355</td>\n",
       "      <td>1972</td>\n",
       "    </tr>\n",
       "    <tr>\n",
       "      <th>1</th>\n",
       "      <td>The Shawshank Redemption</td>\n",
       "      <td>frame in the 1940 for the doubl murder of hi w...</td>\n",
       "      <td>92.048</td>\n",
       "      <td>8.7</td>\n",
       "      <td>23144</td>\n",
       "      <td>1994</td>\n",
       "    </tr>\n",
       "    <tr>\n",
       "      <th>2</th>\n",
       "      <td>Puss in Boots: The Last Wish</td>\n",
       "      <td>puss in boot discov that hi passion for advent...</td>\n",
       "      <td>6689.647</td>\n",
       "      <td>8.6</td>\n",
       "      <td>2504</td>\n",
       "      <td>2022</td>\n",
       "    </tr>\n",
       "    <tr>\n",
       "      <th>3</th>\n",
       "      <td>The Godfather Part II</td>\n",
       "      <td>in the continu saga of the corleon crime famil...</td>\n",
       "      <td>57.998</td>\n",
       "      <td>8.6</td>\n",
       "      <td>10503</td>\n",
       "      <td>1974</td>\n",
       "    </tr>\n",
       "    <tr>\n",
       "      <th>4</th>\n",
       "      <td>Schindler's List</td>\n",
       "      <td>the true stori of how businessman oskar schind...</td>\n",
       "      <td>55.299</td>\n",
       "      <td>8.6</td>\n",
       "      <td>13687</td>\n",
       "      <td>1993</td>\n",
       "    </tr>\n",
       "    <tr>\n",
       "      <th>...</th>\n",
       "      <td>...</td>\n",
       "      <td>...</td>\n",
       "      <td>...</td>\n",
       "      <td>...</td>\n",
       "      <td>...</td>\n",
       "      <td>...</td>\n",
       "    </tr>\n",
       "    <tr>\n",
       "      <th>9995</th>\n",
       "      <td>Sleeping Beauty</td>\n",
       "      <td>a haunt erot fairytal about lucy, a young univ...</td>\n",
       "      <td>12.709</td>\n",
       "      <td>5.4</td>\n",
       "      <td>525</td>\n",
       "      <td>2011</td>\n",
       "    </tr>\n",
       "    <tr>\n",
       "      <th>9996</th>\n",
       "      <td>Freejack</td>\n",
       "      <td>time-travel bounti hunter find a doom race-car...</td>\n",
       "      <td>10.705</td>\n",
       "      <td>5.4</td>\n",
       "      <td>263</td>\n",
       "      <td>1992</td>\n",
       "    </tr>\n",
       "    <tr>\n",
       "      <th>9997</th>\n",
       "      <td>The Colony</td>\n",
       "      <td>forc underground by the next ice age, a strugg...</td>\n",
       "      <td>17.831</td>\n",
       "      <td>5.4</td>\n",
       "      <td>981</td>\n",
       "      <td>2013</td>\n",
       "    </tr>\n",
       "    <tr>\n",
       "      <th>9998</th>\n",
       "      <td>The Roommate</td>\n",
       "      <td>when sara, a young design student from iowa, a...</td>\n",
       "      <td>9.472</td>\n",
       "      <td>5.4</td>\n",
       "      <td>835</td>\n",
       "      <td>2011</td>\n",
       "    </tr>\n",
       "    <tr>\n",
       "      <th>9999</th>\n",
       "      <td>Cats &amp; Dogs</td>\n",
       "      <td>when a professor develop a vaccin that elimin ...</td>\n",
       "      <td>22.105</td>\n",
       "      <td>5.4</td>\n",
       "      <td>1415</td>\n",
       "      <td>2001</td>\n",
       "    </tr>\n",
       "  </tbody>\n",
       "</table>\n",
       "<p>9998 rows × 6 columns</p>\n",
       "</div>"
      ],
      "text/plain": [
       "                             title   \n",
       "0                    The Godfather  \\\n",
       "1         The Shawshank Redemption   \n",
       "2     Puss in Boots: The Last Wish   \n",
       "3            The Godfather Part II   \n",
       "4                 Schindler's List   \n",
       "...                            ...   \n",
       "9995               Sleeping Beauty   \n",
       "9996                      Freejack   \n",
       "9997                    The Colony   \n",
       "9998                  The Roommate   \n",
       "9999                   Cats & Dogs   \n",
       "\n",
       "                                               overview  popularity   \n",
       "0     span the year 1945 to 1955, a chronicl of the ...     109.720  \\\n",
       "1     frame in the 1940 for the doubl murder of hi w...      92.048   \n",
       "2     puss in boot discov that hi passion for advent...    6689.647   \n",
       "3     in the continu saga of the corleon crime famil...      57.998   \n",
       "4     the true stori of how businessman oskar schind...      55.299   \n",
       "...                                                 ...         ...   \n",
       "9995  a haunt erot fairytal about lucy, a young univ...      12.709   \n",
       "9996  time-travel bounti hunter find a doom race-car...      10.705   \n",
       "9997  forc underground by the next ice age, a strugg...      17.831   \n",
       "9998  when sara, a young design student from iowa, a...       9.472   \n",
       "9999  when a professor develop a vaccin that elimin ...      22.105   \n",
       "\n",
       "      vote_average  vote_count  year  \n",
       "0              8.7       17355  1972  \n",
       "1              8.7       23144  1994  \n",
       "2              8.6        2504  2022  \n",
       "3              8.6       10503  1974  \n",
       "4              8.6       13687  1993  \n",
       "...            ...         ...   ...  \n",
       "9995           5.4         525  2011  \n",
       "9996           5.4         263  1992  \n",
       "9997           5.4         981  2013  \n",
       "9998           5.4         835  2011  \n",
       "9999           5.4        1415  2001  \n",
       "\n",
       "[9998 rows x 6 columns]"
      ]
     },
     "execution_count": 197,
     "metadata": {},
     "output_type": "execute_result"
    }
   ],
   "source": [
    "movies"
   ]
  },
  {
   "cell_type": "code",
   "execution_count": null,
   "id": "f65c0462-a6c4-4aa6-b3de-bea3195060ec",
   "metadata": {},
   "outputs": [],
   "source": []
  },
  {
   "cell_type": "code",
   "execution_count": null,
   "id": "1e4fc262-0262-4abd-bc7f-ff5dc300c2d7",
   "metadata": {},
   "outputs": [],
   "source": []
  },
  {
   "cell_type": "code",
   "execution_count": null,
   "id": "7a5a8d20-74c2-4bfd-ae6f-3f41654457e9",
   "metadata": {},
   "outputs": [],
   "source": []
  },
  {
   "cell_type": "code",
   "execution_count": null,
   "id": "8d32d391-a74d-4808-ad5a-f3b8d2aba0d2",
   "metadata": {},
   "outputs": [],
   "source": []
  },
  {
   "cell_type": "code",
   "execution_count": null,
   "id": "57a09bf1-ac93-45a6-b384-79b47dd00701",
   "metadata": {},
   "outputs": [],
   "source": []
  },
  {
   "cell_type": "code",
   "execution_count": null,
   "id": "550ac477-9f5b-4948-b89d-54565c7152b3",
   "metadata": {},
   "outputs": [],
   "source": []
  },
  {
   "cell_type": "code",
   "execution_count": null,
   "id": "af6acdbc-fdb9-46ad-8ee7-78543ac51b43",
   "metadata": {},
   "outputs": [],
   "source": []
  },
  {
   "cell_type": "code",
   "execution_count": null,
   "id": "800577bc-5729-4c8b-80a0-dc81ecf81a45",
   "metadata": {},
   "outputs": [],
   "source": []
  },
  {
   "cell_type": "code",
   "execution_count": null,
   "id": "768995dc-3c45-4f9f-a3a5-ae66c56f5223",
   "metadata": {},
   "outputs": [],
   "source": []
  },
  {
   "cell_type": "code",
   "execution_count": null,
   "id": "824e0268-62f0-4752-be3d-4f14c82067db",
   "metadata": {},
   "outputs": [],
   "source": []
  },
  {
   "cell_type": "code",
   "execution_count": null,
   "id": "61bf32ab-9c62-4b78-8dba-581abf76cefe",
   "metadata": {},
   "outputs": [],
   "source": []
  },
  {
   "cell_type": "code",
   "execution_count": null,
   "id": "edfdf738-219d-4d37-a061-bdb9424261f6",
   "metadata": {},
   "outputs": [],
   "source": []
  },
  {
   "cell_type": "code",
   "execution_count": null,
   "id": "fbcedc79-7cac-4c07-ba50-f74d2e05220f",
   "metadata": {},
   "outputs": [],
   "source": []
  },
  {
   "cell_type": "code",
   "execution_count": null,
   "id": "083ebf6d-7e6f-4287-b45a-94eb9d7533c7",
   "metadata": {},
   "outputs": [],
   "source": []
  },
  {
   "cell_type": "markdown",
   "id": "14d841bb-5fd9-41c3-8f1c-ed5d82bbce2f",
   "metadata": {},
   "source": [
    "🍿 - Popcorn (often used to represent watching a movie or going to the cinema)\n",
    "🎥 - Movie camera\n",
    "🎬 - Clapper board (often used to represent the film industry or movie-making)\n",
    "🎞️ - Film frames\n",
    "🎭 - Theater masks (often used to represent drama or acting)\n",
    "🎦 - Cinema\n",
    "🍫 - Chocolate (often associated with movie theater snacks)\n",
    "🎵 - Musical note (often used to represent musical movies)\n",
    "📽️ - Film projector\n",
    "🔍 - Magnifying glass (often used to represent mystery or detective movies)\n",
    "👻 - Ghost (often used to represent horror movies)"
   ]
  },
  {
   "cell_type": "code",
   "execution_count": null,
   "id": "f1ea0dc7-b6a3-4bcd-9d78-dc5d44a0c3de",
   "metadata": {},
   "outputs": [],
   "source": []
  }
 ],
 "metadata": {
  "kernelspec": {
   "display_name": "Python 3 (ipykernel)",
   "language": "python",
   "name": "python3"
  },
  "language_info": {
   "codemirror_mode": {
    "name": "ipython",
    "version": 3
   },
   "file_extension": ".py",
   "mimetype": "text/x-python",
   "name": "python",
   "nbconvert_exporter": "python",
   "pygments_lexer": "ipython3",
   "version": "3.9.6"
  }
 },
 "nbformat": 4,
 "nbformat_minor": 5
}
